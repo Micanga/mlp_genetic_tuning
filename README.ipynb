{
 "cells": [
  {
   "cell_type": "markdown",
   "metadata": {},
   "source": [
    "# Algoritmo Genético Para Ajuste de Parâmentros em Redes Neurais\n",
    "---\n",
    "\n",
    "Participantes: \n",
    "- Antonio Nelson Fornari Mendes Moreira\n",
    "- Luca Araujo Porto\n",
    "- Mateus\n",
    "\n",
    "\n",
    "1. [Objetivo](#objetivo)\n",
    "2. [Introdução a Redes Neurais](#introNN)\n",
    "3. [Introdução a Algoritmos Genéticos](#introGA)\n",
    "4. \n",
    "\n",
    "\n",
    "## Objetivo <a name=\"objetivo\"></a>\n",
    "---\n",
    "\n",
    "O objetivo do presente projeto é avaliar o impacto de um algoritmo genético em encontrar a melhor arquitetura de uma rede neural (número de *hidden layers*, quantidade de neurônios por *hidden layers* e função de ativação) dado um problema de classificação. \n",
    "\n",
    "\n",
    "\n",
    "## Introdução a Redes Neurais <a name=\"introRede\"></a>\n",
    "---\n",
    "\n",
    "\n"
   ]
  }
 ],
 "metadata": {
  "kernelspec": {
   "display_name": "Python 3",
   "language": "python",
   "name": "python3"
  },
  "language_info": {
   "codemirror_mode": {
    "name": "ipython",
    "version": 3
   },
   "file_extension": ".py",
   "mimetype": "text/x-python",
   "name": "python",
   "nbconvert_exporter": "python",
   "pygments_lexer": "ipython3",
   "version": "3.8.2"
  }
 },
 "nbformat": 4,
 "nbformat_minor": 4
}
